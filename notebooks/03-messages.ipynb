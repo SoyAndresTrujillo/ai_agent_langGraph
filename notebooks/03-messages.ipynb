{
 "cells": [
  {
   "cell_type": "code",
   "execution_count": 3,
   "id": "a1807871",
   "metadata": {},
   "outputs": [
    {
     "data": {
      "text/plain": [
       "'Hello, from AI'"
      ]
     },
     "execution_count": 3,
     "metadata": {},
     "output_type": "execute_result"
    }
   ],
   "source": [
    "# AI memory\n",
    "from langchain_core.messages import AIMessage\n",
    "\n",
    "ai_message = AIMessage(content = \"Hello, from AI\");\n",
    "ai_message.text"
   ]
  },
  {
   "cell_type": "code",
   "execution_count": null,
   "id": "0d600927",
   "metadata": {},
   "outputs": [
    {
     "data": {
      "text/plain": [
       "'Hello, from human'"
      ]
     },
     "execution_count": 4,
     "metadata": {},
     "output_type": "execute_result"
    }
   ],
   "source": [
    "# Human memory\n",
    "from langchain_core.messages import HumanMessage\n",
    "\n",
    "human_message = HumanMessage(content = \"Hello, from human\");\n",
    "human_message.text"
   ]
  },
  {
   "cell_type": "code",
   "execution_count": 5,
   "id": "bda26791",
   "metadata": {},
   "outputs": [
    {
     "name": "stdout",
     "output_type": "stream",
     "text": [
      "================================\u001b[1m Human Message \u001b[0m=================================\n",
      "\n",
      "Hello, from human\n",
      "==================================\u001b[1m Ai Message \u001b[0m==================================\n",
      "\n",
      "Hello, from AI\n"
     ]
    }
   ],
   "source": [
    "# History of messages\n",
    "history = [human_message, ai_message]\n",
    "# history\n",
    "\n",
    "for m in history:\n",
    "  m.pretty_print()"
   ]
  },
  {
   "cell_type": "code",
   "execution_count": 6,
   "id": "2c25a2f3",
   "metadata": {},
   "outputs": [
    {
     "data": {
      "text/plain": [
       "[HumanMessage(content='Hello, from human', additional_kwargs={}, response_metadata={}),\n",
       " AIMessage(content='Hello, from AI', additional_kwargs={}, response_metadata={}),\n",
       " HumanMessage(content='Can you help me?', additional_kwargs={}, response_metadata={})]"
      ]
     },
     "execution_count": 6,
     "metadata": {},
     "output_type": "execute_result"
    }
   ],
   "source": [
    "# [1, 2, 3] + [4, 5, 6] works\n",
    "# [1, 2, 3] + [] works\n",
    "# [1, 2, 3] + 1 bad\n",
    "\n",
    "# Create memory \n",
    "history = history + [HumanMessage(content=\"Can you help me?\")]\n",
    "history"
   ]
  },
  {
   "cell_type": "code",
   "execution_count": null,
   "id": "0137b999",
   "metadata": {},
   "outputs": [],
   "source": []
  }
 ],
 "metadata": {
  "kernelspec": {
   "display_name": ".venv",
   "language": "python",
   "name": "python3"
  },
  "language_info": {
   "codemirror_mode": {
    "name": "ipython",
    "version": 3
   },
   "file_extension": ".py",
   "mimetype": "text/x-python",
   "name": "python",
   "nbconvert_exporter": "python",
   "pygments_lexer": "ipython3",
   "version": "3.12.3"
  }
 },
 "nbformat": 4,
 "nbformat_minor": 5
}
